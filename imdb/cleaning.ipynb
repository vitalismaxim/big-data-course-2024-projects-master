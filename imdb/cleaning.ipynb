{
 "cells": [
  {
   "cell_type": "code",
   "execution_count": 1,
   "id": "4f595379",
   "metadata": {},
   "outputs": [],
   "source": [
    "import numpy as np\n",
    "import pandas as pd\n",
    "\n",
    "dfs = []\n",
    "for i in range(1, 9):\n",
    "    filename = f\"train-{i}.csv\"\n",
    "    df = pd.read_csv(filename)\n",
    "    dfs.append(df)"
   ]
  },
  {
   "cell_type": "code",
   "execution_count": 2,
   "id": "7abdb22d",
   "metadata": {},
   "outputs": [
    {
     "name": "stdout",
     "output_type": "stream",
     "text": [
      "      Unnamed: 0     tconst                                   primaryTitle  \\\n",
      "0              4  tt0010600                                       The Doll   \n",
      "1              7  tt0011841                                  Way Down East   \n",
      "2              9  tt0012494                                        Déstiny   \n",
      "3             25  tt0015163                                  The Navigator   \n",
      "4             38  tt0016220                       The Phantom of the Opera   \n",
      "...          ...        ...                                            ...   \n",
      "7954        9966  tt9625664                                  Trauma Center   \n",
      "7955        9981  tt9741310                                          Slaxx   \n",
      "7956        9982  tt9742392                                        Kindred   \n",
      "7957        9996  tt9850386  The Bee Gees: How Can You Mend a Broken Heart   \n",
      "7958        9999  tt9911196                            The Marriage Escape   \n",
      "\n",
      "                       originalTitle  startYear  endYear  runtimeMinutes  \\\n",
      "0                          Die Puppe     1919.0      NaN            66.0   \n",
      "1                      Way Down East     1920.0      NaN           145.0   \n",
      "2                       Der müde Tod     1921.0      NaN            97.0   \n",
      "3                      The Navigator     1924.0      NaN            59.0   \n",
      "4           The Phantom of the Opera     1925.0      NaN            93.0   \n",
      "...                              ...        ...      ...             ...   \n",
      "7954                             NaN     2019.0      NaN            87.0   \n",
      "7955                           Slaxx     2020.0      NaN            77.0   \n",
      "7956                         Kindred     2020.0      NaN           101.0   \n",
      "7957                             NaN     2020.0      NaN           111.0   \n",
      "7958  De beentjes van Sint-Hildegard     2020.0      NaN           103.0   \n",
      "\n",
      "      numVotes label  \n",
      "0       1898.0   NaN  \n",
      "1       5376.0   NaN  \n",
      "2       5842.0   NaN  \n",
      "3       9652.0   NaN  \n",
      "4      17887.0   NaN  \n",
      "...        ...   ...  \n",
      "7954   12951.0   NaN  \n",
      "7955    2464.0   NaN  \n",
      "7956    1719.0   NaN  \n",
      "7957    4144.0   NaN  \n",
      "7958    3242.0   NaN  \n",
      "\n",
      "[7959 rows x 9 columns]\n"
     ]
    }
   ],
   "source": [
    "combined_df = pd.concat(dfs, ignore_index=True)\n",
    "\n",
    "combined_df.replace(\"\\\\N\", np.nan, inplace=True)\n",
    "\n",
    "# to numerical\n",
    "numerical_columns = ['startYear', 'endYear', 'runtimeMinutes', 'numVotes']\n",
    "combined_df[numerical_columns] = combined_df[numerical_columns].apply(pd.to_numeric, errors='coerce')\n",
    "# to bool\n",
    "combined_df['label'] = combined_df['label'].map({'True': True, 'False': False})\n",
    "\n",
    "print(combined_df)"
   ]
  },
  {
   "cell_type": "code",
   "execution_count": 7,
   "id": "d8e97094",
   "metadata": {},
   "outputs": [
    {
     "name": "stdout",
     "output_type": "stream",
     "text": [
      "+---------+--------------------+----------------+---------+-------+--------------+--------+-----+\n",
      "|   tconst|        primaryTitle|   originalTitle|startYear|endYear|runtimeMinutes|numVotes|label|\n",
      "+---------+--------------------+----------------+---------+-------+--------------+--------+-----+\n",
      "|tt0014109|The Saga of Gösta...|            NULL|     1924|   NULL|           183|    1231| true|\n",
      "|tt0015064|      The Last Laugh| Der letzte Mann|     1924|   NULL|            77|    NULL| true|\n",
      "|tt0015841|        The Freshman|    The Freshman|     1925|   NULL|            77|    5374| true|\n",
      "|tt0017271|          By the Law|            NULL|     NULL|   1926|            80|    1057| true|\n",
      "|tt0018451|The Student Princ...|            NULL|     1927|   NULL|           106|    1459| true|\n",
      "|tt0018742|       The Cameraman|   The Cameraman|     1928|   NULL|            76|   11388| true|\n",
      "|tt0019379|         Show People|            NULL|     1928|   NULL|            83|    3695| true|\n",
      "|tt0020018|      In Old Arizona|            NULL|     1928|   NULL|            95|    1049|false|\n",
      "|tt0020793|Escape from Dartmoor|            NULL|     1929|   NULL|            88|    1102| true|\n",
      "|tt0022125|              Marius|            NULL|     1931|   NULL|           130|    2251| true|\n",
      "|tt0022626|    American Madness|            NULL|     1932|   NULL|            75|    1996| true|\n",
      "|tt0023622| Trouble in Paradise|            NULL|     1932|   NULL|            83|   14090| true|\n",
      "|tt0023876|           Cavalcade|       Cavalcade|     NULL|   1933|           112|    5038|false|\n",
      "|tt0024593|         Son of Kong|            NULL|     1933|   NULL|            70|    4501|false|\n",
      "|tt0025164|    Thé Gáy Divớrcéé|The Gay Divorcee|     1934|   NULL|           107|    NULL| true|\n",
      "|tt0027532|           Dớdswớrth|            NULL|     1936|   NULL|           101|    8817| true|\n",
      "|tt0027977|        Modern Times|            NULL|     1936|   NULL|            87|  231243| true|\n",
      "|tt0028070|       Our Relations|            NULL|     NULL|   1936|            71|    3077| true|\n",
      "|tt0028315|            Stớwáwáy|            NULL|     1936|   NULL|            87|    1323| true|\n",
      "|tt0028773|            Dead End|        Dead End|     1937|   NULL|            93|    NULL| true|\n",
      "+---------+--------------------+----------------+---------+-------+--------------+--------+-----+\n",
      "only showing top 20 rows\n",
      "\n"
     ]
    }
   ],
   "source": [
    "from pyspark.sql import SparkSession\n",
    "from pyspark.sql.functions import col, when\n",
    "from pyspark.sql.types import IntegerType, BooleanType\n",
    "\n",
    "spark = SparkSession.builder \\\n",
    "    .appName(\"data cleaning\") \\\n",
    "    .getOrCreate()\n",
    "\n",
    "files = [\"train-1.csv\", \"train-2.csv\", \"train-3.csv\", \"train-4.csv\",\n",
    "              \"train-5.csv\", \"train-6.csv\", \"train-7.csv\", \"train-8.csv\"]\n",
    "\n",
    "df = spark.read.csv(files, header=True)\n",
    "df = df.drop(df.columns[0])\n",
    "\n",
    "for col_name in df.columns:\n",
    "    df = df.withColumn(col_name, \n",
    "                       when(col(col_name) == \"\\\\N\", None).otherwise(col(col_name)))\n",
    "\n",
    "numerical_columns = ['startYear', 'endYear', 'runtimeMinutes', 'numVotes']\n",
    "for col_name in numerical_columns:\n",
    "    df = df.withColumn(col_name, df[col_name].cast(IntegerType()))\n",
    "\n",
    "df = df.withColumn(\"label\", df[\"label\"].cast(BooleanType()))\n",
    "df.show()\n",
    "\n",
    "spark.stop()"
   ]
  },
  {
   "cell_type": "code",
   "execution_count": null,
   "id": "1243e11e",
   "metadata": {},
   "outputs": [],
   "source": []
  }
 ],
 "metadata": {
  "kernelspec": {
   "display_name": "Python 3 (ipykernel)",
   "language": "python",
   "name": "python3"
  },
  "language_info": {
   "codemirror_mode": {
    "name": "ipython",
    "version": 3
   },
   "file_extension": ".py",
   "mimetype": "text/x-python",
   "name": "python",
   "nbconvert_exporter": "python",
   "pygments_lexer": "ipython3",
   "version": "3.9.13"
  }
 },
 "nbformat": 4,
 "nbformat_minor": 5
}
